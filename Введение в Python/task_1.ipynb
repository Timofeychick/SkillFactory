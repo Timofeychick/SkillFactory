{
 "cells": [
  {
   "cell_type": "code",
   "execution_count": 1,
   "id": "dd5bc21e",
   "metadata": {},
   "outputs": [],
   "source": [
    "# Импортируем библиотеку для выполнения HTTP-запросов в интернет\n",
    "import requests\n",
    "\n",
    "# Читаем текстовый файл по url-ссылке\n",
    "data = requests.get(\"https://raw.githubusercontent.com/SkillfactoryDS/Datasets/master/war_peace_processed.txt\").text"
   ]
  },
  {
   "cell_type": "markdown",
   "id": "ce7a63bf",
   "metadata": {},
   "source": [
    "### Задание 1.\n",
    "\n",
    "Давайте введем понятие частоты употребления отдельного слова в документе (`term frequency`, или `tf`). В нашем случае речь идёт не о документах, а о главах книги (выше мы писали, что в текстовом документе главы разделяются строкой '[new chapter]').\n",
    "\n",
    "Формула для вычисления `term frequency` для слова `word`:\n",
    "$$ tf_{word, chapter} = \\frac {n_{word, chapter}} {n_{chapter}}$$\n",
    "\n",
    "где\n",
    "* ${n_{word, chapter}}$ - сколько раз слово `word` встречается в главе `chapter`,\n",
    "* $n_{chapter}$ - количество слов в главе `chapter`.\n",
    "\n",
    "\n",
    "Например, слово `\"гостья\"` употребляется в 15-ой главе 10 раз (${n_{word, chapter}}$).(кстати, главы у нас нумеруются с 0). Общее количество слов в тексте 15-ой главы - 1359 ($n_{chapter}$). Тогда:\n",
    "\n",
    "$$ tf_{гостья, 15} = \\frac{10}{1359} \\approx 0.007358$$\n",
    "\n",
    "**Задание:**\n",
    "\n",
    "Напишите программу, которая позволит получать частоту употребления любого заданного слова `target_word` в заданной главе `target_chapter`.\n",
    "\n",
    "**Дополнительное требование:**\n",
    "\n",
    "*Пострайтесь сделать программу максимально обобщенной. То есть желательно рассчитать характеристику `tf` для всех слов из каждой главы, чтобы впоследствии не было необходимости производить вычисления снова.*\n",
    "\n",
    "**Подсказка:**\n",
    "\n",
    "*Для этого вы можете для каждой главы создать словарь, ключами которого являются слова, а значения - частота употребления этого слова в этой главе*\n",
    "\n",
    "**Протестируйте работу программы на нескольких словах и главах.**"
   ]
  },
  {
   "cell_type": "code",
   "execution_count": 2,
   "id": "092f5cf7",
   "metadata": {},
   "outputs": [],
   "source": [
    "text = data.split('\\n')\n",
    "text.remove('')"
   ]
  },
  {
   "cell_type": "markdown",
   "id": "7d358927",
   "metadata": {},
   "source": [
    "# **Задача №1** - решение"
   ]
  },
  {
   "cell_type": "markdown",
   "id": "37dc1ab0",
   "metadata": {},
   "source": [
    "#### Разбиение текста на словарь со структурой: {номер главы: [список слов]}"
   ]
  },
  {
   "cell_type": "code",
   "execution_count": 3,
   "id": "cc745d56",
   "metadata": {},
   "outputs": [],
   "source": [
    "chapters_and_words = {} # Словарь со структурой: {номер главы: список всех слов в главе}\n",
    "words = [] # список, в который будут добавляться слова конкретной главы\n",
    "chapter_number = 0\n",
    "\n",
    "for word in text: \n",
    "    words.append(word)\n",
    "    if word == '[new chapter]':\n",
    "        words.remove('[new chapter]')\n",
    "        chapters_and_words[chapter_number] = words\n",
    "        words = []\n",
    "        chapter_number += 1"
   ]
  },
  {
   "cell_type": "markdown",
   "id": "61c61ce4",
   "metadata": {},
   "source": [
    "#### Составление частотного словаря со структурой: {номер главы: [[слово, частота встречаемости], [слово, частота встречаемости]...]}"
   ]
  },
  {
   "cell_type": "code",
   "execution_count": 12,
   "id": "f47cb455",
   "metadata": {},
   "outputs": [],
   "source": [
    "words_frequancy = {} # частотынй словарь со структурой: {номер главы: [[слово, частота встречаеомости в главе], [слово, частота встречаеомости в главе]...]}\n",
    "frequancy_list = []\n",
    "\n",
    "for chapter in chapters_and_words:                                            # Берем список слов соответсвующий каждой главе\n",
    "    unique_words = set(chapters_and_words[chapter])                           # Находим какие слова встречаются в главе (без повторений)\n",
    "    for word in (unique_words):                                               # Берем слово из множества уникальных слов \n",
    "        quantity = chapters_and_words[chapter].count(word)                    # Считаем сколько раз это слово встретилось в главе\n",
    "        frequancy = round(quantity / len(chapters_and_words[chapter]), 6)     # Находим частототу встречаемости \n",
    "        word_and_freq = [word, frequancy]                                     # Добавляем в список слово и его частоту\n",
    "        frequancy_list.append(word_and_freq)                                  # Заносим данные в список для частотного словаря                                                        \n",
    "\n",
    "    words_frequancy[chapter] = frequancy_list                       # Добавляем список с парами [слово, частота] в частотный словарь по номеру главы \n",
    "    frequancy_list = []                                             # Обнуляем добавляемый список для записи новых пар из следующей главы"
   ]
  },
  {
   "cell_type": "markdown",
   "id": "c93f58a5",
   "metadata": {},
   "source": [
    "#### Функция поиска и запрашиваемых значений"
   ]
  },
  {
   "cell_type": "code",
   "execution_count": 13,
   "id": "00ce505f",
   "metadata": {},
   "outputs": [],
   "source": [
    "def get_word_frequency(dictionary, chapter, word):                  # Обявление функции поиска частоты по названию словаря, номеру главы и искомому слову\n",
    "    target_list = dictionary[chapter]                               # Выделяем нужный список по номеру главы\n",
    "    for target in target_list:                                      # Объявляем цикл для поиска нужной пары (target)\n",
    "        if word == target[0]: return target[1]                      # Если запрашиваемое слово word совпадает с первым элементом в паре (target[0]), возвращаем частоту его встречаемости (target[1])\n",
    "\n",
    "    return ('Слово не найдено')                                     # Если поиск не дал результатов, возвращаем \"Слово не найдено\""
   ]
  },
  {
   "cell_type": "markdown",
   "id": "dce999eb",
   "metadata": {},
   "source": [
    "#### Ввод искомых параметров и вывод"
   ]
  },
  {
   "cell_type": "code",
   "execution_count": null,
   "id": "cd3fc095",
   "metadata": {},
   "outputs": [
    {
     "name": "stdout",
     "output_type": "stream",
     "text": [
      "Частота встречаемости слова 'гостья' из главы № 15 составляет 0.007358\n"
     ]
    },
    {
     "ename": "",
     "evalue": "",
     "output_type": "error",
     "traceback": [
      "\u001b[1;31mThe Kernel crashed while executing code in the current cell or a previous cell. \n",
      "\u001b[1;31mPlease review the code in the cell(s) to identify a possible cause of the failure. \n",
      "\u001b[1;31mClick <a href='https://aka.ms/vscodeJupyterKernelCrash'>here</a> for more info. \n",
      "\u001b[1;31mView Jupyter <a href='command:jupyter.viewOutput'>log</a> for further details."
     ]
    }
   ],
   "source": [
    "target_word = 'гостья'\n",
    "target_chapter = 15\n",
    "\n",
    "\n",
    "print(f\"Частота встречаемости слова '{target_word}' из главы № {target_chapter} составляет {get_word_frequency(words_frequancy, target_chapter, target_word)}\")"
   ]
  }
 ],
 "metadata": {
  "kernelspec": {
   "display_name": "base",
   "language": "python",
   "name": "python3"
  },
  "language_info": {
   "codemirror_mode": {
    "name": "ipython",
    "version": 3
   },
   "file_extension": ".py",
   "mimetype": "text/x-python",
   "name": "python",
   "nbconvert_exporter": "python",
   "pygments_lexer": "ipython3",
   "version": "3.11.7"
  }
 },
 "nbformat": 4,
 "nbformat_minor": 5
}
