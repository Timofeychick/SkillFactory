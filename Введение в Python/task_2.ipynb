{
 "cells": [
  {
   "cell_type": "markdown",
   "id": "0a6aa395",
   "metadata": {},
   "source": [
    "### Задание 2.\n",
    "\n",
    "Пришло время познакомиться с понятием `document frequency`.\n",
    "\n",
    "`Document frequency` (для удобства сократим до `df`) — это доля документов, в которых встречается искомое слово.\n",
    "\n",
    "Вычисляется по формуле:\n",
    "\n",
    "$$ df_{word} = \\frac{N_{word}}{N} $$\n",
    "\n",
    "где\n",
    "* $N_{word}$ - число документов (глав) содержащих слово `word`,\n",
    "* $N$ - общее число документов (глав).\n",
    "\n",
    "Объясним на примере: наш текст состоит из 171 главы ($N$), а слово `\"человек\"` встречается в 115 главах. Тогда:\n",
    "\n",
    "$$ df_{человек} = \\frac{115}{171} \\approx 0.6725$$\n",
    "\n",
    "**Задание:**\n",
    "\n",
    "Напишите программу, которая позволит вычислять document frequency для заданного слова `target_word` и выведить результат на экран.\n",
    "\n",
    "**Дополнительное требование:**\n",
    "\n",
    "*Пострайтесь сделать программу максимально обобщенной. То есть желательно рассчитать характеристику `df` для всех уникальных слов из книги, чтобы впоследствии не было необходимости производить вычисления снова.*\n",
    "\n",
    "**Подсказка:**\n",
    "*Для этого вы можете создать словарь, ключами которого являются слова из книги, а значения - доля документов, содержащих эти слова*\n",
    "\n",
    "**Протестируйте работу программы на нескольких словах**"
   ]
  },
  {
   "cell_type": "markdown",
   "id": "db07f6e6",
   "metadata": {},
   "source": [
    "# **Задача №2** - решение"
   ]
  },
  {
   "cell_type": "markdown",
   "id": "482eb37f",
   "metadata": {},
   "source": [
    "#### Импорт данных и  обработка"
   ]
  },
  {
   "cell_type": "code",
   "execution_count": 2,
   "id": "505e88dd",
   "metadata": {},
   "outputs": [],
   "source": [
    "# Импортируем библиотеку для выполнения HTTP-запросов в интернет\n",
    "import requests\n",
    "\n",
    "# Читаем текстовый файл по url-ссылке\n",
    "data = requests.get(\"https://raw.githubusercontent.com/SkillfactoryDS/Datasets/master/war_peace_processed.txt\").text"
   ]
  },
  {
   "cell_type": "code",
   "execution_count": 3,
   "id": "b86798b5",
   "metadata": {},
   "outputs": [],
   "source": [
    "text = data.split('\\n')\n",
    "text.remove('')"
   ]
  },
  {
   "cell_type": "markdown",
   "id": "bc32ed78",
   "metadata": {},
   "source": [
    "#### Создание множетсва слов из текста"
   ]
  },
  {
   "cell_type": "code",
   "execution_count": 4,
   "id": "c95c5e25",
   "metadata": {},
   "outputs": [],
   "source": [
    "words_collection = set(text)                          # Cоздаем множество элементов текста\n",
    "words_collection.remove('[new chapter]')              # Убираем из множества разделитель глав '[new chapter]'\n",
    "count_of_chapters = text.count('[new chapter]') + 1   # Считаем количество глав (+ 1 - потому что в начале первой главы нет '[new chapter]')"
   ]
  },
  {
   "cell_type": "markdown",
   "id": "46355dab",
   "metadata": {},
   "source": [
    "#### Разбиение текста на словарь со структурой: {номер главы: [список слов]}"
   ]
  },
  {
   "cell_type": "code",
   "execution_count": 11,
   "id": "6686f9ce",
   "metadata": {},
   "outputs": [],
   "source": [
    "unique_words = set(text)                              # множество всех слов в тексте без повторений\n",
    "chapters_and_words = {}                               # Словарь со структурой: {номер главы: список всех слов в главе}\n",
    "words = []                                            # список, в который будут добавляться слова конкретной главы\n",
    "chapter_number = 0\n",
    "\n",
    "\n",
    "for word in text: \n",
    "    words.append(word)\n",
    "    if word == '[new chapter]':\n",
    "        words.remove('[new chapter]')\n",
    "        chapters_and_words[chapter_number] = words\n",
    "        words = []\n",
    "        chapter_number += 1"
   ]
  },
  {
   "cell_type": "markdown",
   "id": "43904b9e",
   "metadata": {},
   "source": [
    "#### Считаем в скольких главах встретилось слово из множества (работает долго)"
   ]
  },
  {
   "cell_type": "code",
   "execution_count": 6,
   "id": "8eda2f0c",
   "metadata": {},
   "outputs": [],
   "source": [
    "document_count = {}                                                         # Словарь со структурой: {слово: количество глав с этим словом}\n",
    "\n",
    "for word in unique_words:                                                   # Берем слово из множества unique_words\n",
    "    if word not in document_count: document_count[word] = 0                 # Добавляем слово в словарь document_count\n",
    "    for chapter in chapters_and_words:                                      # Выбираем главу из словаря chapter_and_words по номеру главы (по ключу)\n",
    "        if word in chapters_and_words[chapter]: document_count[word] +=1    # Проверяем есть ли это слово (word) в этой главе (списке) и если есть увеличиваем количество. \n",
    "                                                                            # Далее цикл переходит следующей главе, а по факту пробежки по всем главам переходит к новому слову (word)\n",
    "                                                                            # Алгоритм долгий, работает за линеное время О большое"
   ]
  },
  {
   "cell_type": "markdown",
   "id": "80c59379",
   "metadata": {},
   "source": [
    "#### Находим долю глав в которых встречается искомое слово (document frequancy)"
   ]
  },
  {
   "cell_type": "code",
   "execution_count": 12,
   "id": "95e3f6ab",
   "metadata": {},
   "outputs": [],
   "source": [
    "document_frequancy = {}                                                      # Словарь со структурой: {слово: доля глав с этим словом}\n",
    "for word in document_count:                                                  # Объявляем цикл для подсчета\n",
    "    document_frequancy[word] = document_count.get(word) / count_of_chapters # Находим долю глав в которых встречается слово и заносим в document frequancy"
   ]
  },
  {
   "cell_type": "markdown",
   "id": "9360695b",
   "metadata": {},
   "source": [
    "#### Ввод и вывод"
   ]
  },
  {
   "cell_type": "code",
   "execution_count": 13,
   "id": "749ccc65",
   "metadata": {},
   "outputs": [
    {
     "name": "stdout",
     "output_type": "stream",
     "text": [
      "Доля документов, в которых встречается искомое слово 'анна' составляет 0.18713\n"
     ]
    }
   ],
   "source": [
    "target_word = 'анна'\n",
    "\n",
    "if target_word not in document_frequancy : print ('Это слово не найдено')\n",
    "else: print(f\"Доля документов, в которых встречается искомое слово '{target_word}' составляет {round(document_frequancy.get(target_word), 5)}\")"
   ]
  }
 ],
 "metadata": {
  "kernelspec": {
   "display_name": "base",
   "language": "python",
   "name": "python3"
  },
  "language_info": {
   "codemirror_mode": {
    "name": "ipython",
    "version": 3
   },
   "file_extension": ".py",
   "mimetype": "text/x-python",
   "name": "python",
   "nbconvert_exporter": "python",
   "pygments_lexer": "ipython3",
   "version": "3.11.7"
  }
 },
 "nbformat": 4,
 "nbformat_minor": 5
}
