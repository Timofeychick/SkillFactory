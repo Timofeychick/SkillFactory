{
 "cells": [
  {
   "cell_type": "markdown",
   "id": "bd757d9f",
   "metadata": {},
   "source": [
    "# **Задача №1** - решение"
   ]
  },
  {
   "cell_type": "code",
   "execution_count": 65,
   "id": "bb611476",
   "metadata": {},
   "outputs": [],
   "source": [
    "# Импортируем библиотеку для выполнения HTTP-запросов в интернет\n",
    "import requests\n",
    "import math\n",
    "\n",
    "# Читаем текстовый файл по url-ссылке\n",
    "data = requests.get(\"https://raw.githubusercontent.com/SkillfactoryDS/Datasets/master/war_peace_processed.txt\").text"
   ]
  },
  {
   "cell_type": "code",
   "execution_count": 66,
   "id": "640ba782",
   "metadata": {},
   "outputs": [],
   "source": [
    "text = data.split('\\n')\n",
    "text.remove('')"
   ]
  },
  {
   "cell_type": "code",
   "execution_count": 67,
   "id": "c3913ce6",
   "metadata": {},
   "outputs": [],
   "source": [
    "chapters_and_words = {} # Словарь со структурой: {номер главы: список всех слов в главе}\n",
    "words = [] # список, в который будут добавляться слова конкретной главы\n",
    "chapter_number = 0\n",
    "\n",
    "for word in text: \n",
    "    words.append(word)\n",
    "    if word == '[new chapter]':\n",
    "        words.remove('[new chapter]')\n",
    "        chapters_and_words[chapter_number] = words\n",
    "        words = []\n",
    "        chapter_number += 1"
   ]
  },
  {
   "cell_type": "code",
   "execution_count": 68,
   "id": "a98825d7",
   "metadata": {},
   "outputs": [],
   "source": [
    "words_frequancy = {} # частотынй словарь со структурой: {номер главы: [[слово, частота встречаеомости в главе], [слово, частота встречаеомости в главе]...]}\n",
    "frequancy_list = []\n",
    "\n",
    "for chapter in chapters_and_words:                                            # Берем список слов соответсвующий каждой главе\n",
    "    unique_words = set(chapters_and_words[chapter])                           # Находим какие слова встречаются в главе (без повторений)\n",
    "    for word in (unique_words):                                               # Берем слово из множества уникальных слов \n",
    "        quantity = chapters_and_words[chapter].count(word)                    # Считаем сколько раз это слово встретилось в главе\n",
    "        frequancy = round(quantity / len(chapters_and_words[chapter]), 6)     # Находим частототу встречаемости \n",
    "        word_and_freq = [word, frequancy]                                     # Добавляем в список слово и его частоту\n",
    "        frequancy_list.append(word_and_freq)                                  # Заносим данные в список для частотного словаря                                                        \n",
    "\n",
    "    words_frequancy[chapter] = frequancy_list                       # Добавляем список с парами [слово, частота] в частотный словарь по номеру главы \n",
    "    frequancy_list = []                                             # Обнуляем добавляемый список для записи новых пар из следующей главы"
   ]
  },
  {
   "cell_type": "code",
   "execution_count": 69,
   "id": "e36ff43f",
   "metadata": {},
   "outputs": [],
   "source": [
    "def get_word_param(dictionary, chapter, word):                      # Обявление функции поиска частоты по названию словаря, номеру главы и искомому слову\n",
    "    target_list = dictionary[chapter]                               # Выделяем нужный список по номеру главы\n",
    "    for target in target_list:                                      # Объявляем цикл для поиска нужной пары (target)\n",
    "        if word == target[0]: return target[1]                      # Если запрашиваемое слово word совпадает с первым элементом в паре (target[0]), возвращаем частоту его встречаемости (target[1])\n",
    "\n",
    "    return ('Слово не найдено')                                     # Если поиск не дал результатов, возвращаем \"Слово не найдено\""
   ]
  },
  {
   "cell_type": "code",
   "execution_count": 70,
   "id": "8bbd6016",
   "metadata": {},
   "outputs": [
    {
     "name": "stdout",
     "output_type": "stream",
     "text": [
      "Частота встречаемости слова 'гостья' из главы № 15 составляет 0.007358\n"
     ]
    }
   ],
   "source": [
    "target_word = 'гостья'\n",
    "target_chapter = 15\n",
    "\n",
    "\n",
    "print(f\"Частота встречаемости слова '{target_word}' из главы № {target_chapter} составляет {get_word_param(words_frequancy, target_chapter, target_word)}\")"
   ]
  },
  {
   "cell_type": "markdown",
   "id": "f5e846a1",
   "metadata": {},
   "source": [
    "# **Задача №2** - решение"
   ]
  },
  {
   "cell_type": "code",
   "execution_count": 71,
   "id": "c2af39b8",
   "metadata": {},
   "outputs": [],
   "source": [
    "words_collection = set(text)                          # Cоздаем множество элементов текста\n",
    "words_collection.remove('[new chapter]')              # Убираем из множества разделитель глав '[new chapter]'\n",
    "count_of_chapters = text.count('[new chapter]') + 1   # Считаем количество глав (+ 1 - потому что в начале первой главы нет '[new chapter]')"
   ]
  },
  {
   "cell_type": "code",
   "execution_count": null,
   "id": "7bfafc7c",
   "metadata": {},
   "outputs": [],
   "source": [
    "tqdm(iterable, \n",
    "     desc=\"Описание\",       # Текст перед полоской\n",
    "     total=None,            # Можно задать общее число шагов, если iterable не имеет длины\n",
    "     ncols=80,              # Ширина прогресс-бара в символах\n",
    "     ascii=True,            # Включает \"ASCII стиль\" вместо юникода\n",
    "     bar_format=\"{desc}: {percentage:3.0f}%|{bar}| {n_fmt}/{total_fmt}\",  # Полный кастом формата\n",
    "     colour=\"green\",        # Цвет прогресс-бара (в Jupyter/VS Code работает)\n",
    "     leave=True             # Оставлять бар после завершения (иначе исчезнет)"
   ]
  },
  {
   "cell_type": "code",
   "execution_count": 86,
   "id": "83ceb167",
   "metadata": {},
   "outputs": [
    {
     "name": "stderr",
     "output_type": "stream",
     "text": [
      "Считаем главы для каждого слова: 100%|\u001b[32m##########\u001b[0m| 38210/38210 [02:26<00:00, 261.45it/s]\n"
     ]
    }
   ],
   "source": [
    "from tqdm import tqdm\n",
    "\n",
    "document_count = {}  # Словарь: {слово: количество глав с этим словом}\n",
    "\n",
    "for word in tqdm(words_collection, desc=\"Считаем главы для каждого слова\", ascii=True,bar_format=\"{l_bar}{bar}| {n_fmt}/{total_fmt} [{elapsed}<{remaining}, {rate_fmt}]\",colour='green', leave=True):\n",
    "    if word not in document_count:\n",
    "        document_count[word] = 0\n",
    "    for chapter in chapters_and_words:\n",
    "        if word in chapters_and_words[chapter]:\n",
    "            document_count[word] += 1"
   ]
  },
  {
   "cell_type": "code",
   "execution_count": 73,
   "id": "85f42ac3",
   "metadata": {},
   "outputs": [],
   "source": [
    "# document_count = {}                                                         # Словарь со структурой: {слово: количество глав с этим словом}  \n",
    "\n",
    "\n",
    "# for word in words_collection:                                               # Берем слово из множества words_collection\n",
    "#     if word not in document_count: document_count[word] = 0                 # Добавляем слово в словарь document_count\n",
    "#     for chapter in chapters_and_words:                                      # Выбираем главу из словаря chapter_and_words по номеру главы (по ключу)\n",
    "#        if word in chapters_and_words[chapter]: document_count[word] +=1     # Проверяем есть ли это слово (word) в этой главе (списке) и если есть увеличиваем количество. \n",
    "                                                                              # Далее цикл переходит следующей главе, а по факту пробежки по всем главам переходит к новому слову (word)\n",
    "                                                                              # Алгоритм долгий, работает за время О(m * n * k) - m слов во множестве, n глав, k слов в главе"
   ]
  },
  {
   "cell_type": "code",
   "execution_count": 74,
   "id": "10922acd",
   "metadata": {},
   "outputs": [],
   "source": [
    "chapters_sets = {chapter: set(words) for chapter, words in chapters_and_words.items()}  # С помощью множеств удалось ускорить программу\n",
    "document_count = {}\n",
    "\n",
    "# Сам алгоритм такой же, как в блоке выше, но благодаря множествам работает в разы быстрее\n",
    "for word in words_collection:\n",
    "    count = 0\n",
    "    for chapter in chapters_sets:\n",
    "        if word in chapters_sets[chapter]:\n",
    "            count += 1\n",
    "    document_count[word] = count"
   ]
  },
  {
   "cell_type": "code",
   "execution_count": 75,
   "id": "e019fbbd",
   "metadata": {},
   "outputs": [],
   "source": [
    "document_frequancy = {}                                                      # Словарь со структурой: {слово: доля глав с этим словом}\n",
    "for word in document_count:                                                  # Объявляем цикл для подсчета\n",
    "    document_frequancy[word] = document_count.get(word) / count_of_chapters # Находим долю глав в которых встречается слово и заносим в document frequancy"
   ]
  },
  {
   "cell_type": "code",
   "execution_count": 76,
   "id": "f4c03b0a",
   "metadata": {},
   "outputs": [
    {
     "name": "stdout",
     "output_type": "stream",
     "text": [
      "Доля документов, в которых встречается искомое слово 'анна' составляет 0.18713\n"
     ]
    }
   ],
   "source": [
    "target_word = 'анна'\n",
    "\n",
    "if target_word not in document_frequancy : print ('Это слово не найдено')\n",
    "else: print(f\"Доля документов, в которых встречается искомое слово '{target_word}' составляет {round(document_frequancy.get(target_word), 5)}\")"
   ]
  },
  {
   "cell_type": "markdown",
   "id": "528e1a13",
   "metadata": {},
   "source": [
    "# **Задача №3** - решение"
   ]
  },
  {
   "cell_type": "code",
   "execution_count": 77,
   "id": "1e8f753e",
   "metadata": {},
   "outputs": [],
   "source": [
    "tf_idf_dict = {\n",
    "    chapter: [\n",
    "        [word, round(freq * math.log(1 / document_frequancy[word]), 6)]\n",
    "        for word, freq in word_list\n",
    "        if word in document_frequancy and document_frequancy[word] != 0\n",
    "    ]\n",
    "    for chapter, word_list in words_frequancy.items()\n",
    "}"
   ]
  },
  {
   "cell_type": "code",
   "execution_count": 78,
   "id": "ac7522dd",
   "metadata": {},
   "outputs": [
    {
     "name": "stdout",
     "output_type": "stream",
     "text": [
      "tf_ifd слова 'анна' из главы № 4 составляет 0.011068\n"
     ]
    }
   ],
   "source": [
    "target_word = 'анна'\n",
    "target_chapter = 4\n",
    "\n",
    "\n",
    "print(f\"tf_ifd слова '{target_word}' из главы № {target_chapter} составляет {get_word_param(tf_idf_dict, target_chapter, target_word)}\")"
   ]
  },
  {
   "cell_type": "markdown",
   "id": "c25b9bd3",
   "metadata": {},
   "source": [
    "# **Задача №4** - решение"
   ]
  },
  {
   "cell_type": "code",
   "execution_count": 79,
   "id": "7c542342",
   "metadata": {},
   "outputs": [
    {
     "name": "stdout",
     "output_type": "stream",
     "text": [
      "павловна: 0.01417\n",
      "анна: 0.01107\n",
      "прядильной: 0.00970\n"
     ]
    }
   ],
   "source": [
    "target_chapter = 4\n",
    "\n",
    "chapter_data = tf_idf_dict.get(target_chapter)                              # Получаем список пар [слово, tf-idf] для нужной главы\n",
    "\n",
    "sorted_words = sorted(chapter_data, key=lambda x: x[1], reverse=True)       # Сортируем по tf-idf в убывающем порядке\n",
    "\n",
    "top_3_words = sorted_words[:3]                                              # Берём топ-3\n",
    "\n",
    "for word, score in top_3_words:                                             # Вывод\n",
    "    print(f\"{word}: {score:.5f}\")"
   ]
  },
  {
   "cell_type": "code",
   "execution_count": 80,
   "id": "fd682efc",
   "metadata": {},
   "outputs": [
    {
     "name": "stdout",
     "output_type": "stream",
     "text": [
      "Список времени: 2.4657814502716064\n",
      "Кортеж времени: 3.601074695587158\n"
     ]
    }
   ],
   "source": [
    "import time\n",
    "\n",
    "# Пример: создание 10 миллионов объектов\n",
    "start = time.time()\n",
    "a = [(i, i+1, i+2) for i in range(10_000_000)]\n",
    "print(\"Список времени:\", time.time() - start)\n",
    "\n",
    "start = time.time()\n",
    "b = tuple((i, i+1, i+2) for i in range(10_000_000))\n",
    "print(\"Кортеж времени:\", time.time() - start)"
   ]
  },
  {
   "cell_type": "code",
   "execution_count": 85,
   "id": "9894dedb",
   "metadata": {},
   "outputs": [
    {
     "name": "stderr",
     "output_type": "stream",
     "text": [
      "100%|██████████| 100/100 [00:09<00:00, 11.04it/s]\n"
     ]
    }
   ],
   "source": [
    "from tqdm import tqdm\n",
    "import time\n",
    "\n",
    "for i in tqdm(range(100)):\n",
    "    time.sleep(0.09)  # имитация долгой операции"
   ]
  },
  {
   "cell_type": "code",
   "execution_count": 172,
   "id": "d6425fd2",
   "metadata": {},
   "outputs": [],
   "source": [
    "def best_student(**students):\n",
    "    return min(students, key=students.get)"
   ]
  },
  {
   "cell_type": "code",
   "execution_count": 173,
   "id": "4945e08f",
   "metadata": {},
   "outputs": [
    {
     "name": "stdout",
     "output_type": "stream",
     "text": [
      "Mike\n"
     ]
    }
   ],
   "source": [
    "print(best_student(Tom=12, Mike=3))"
   ]
  },
  {
   "cell_type": "code",
   "execution_count": null,
   "id": "b63c7f60",
   "metadata": {},
   "outputs": [],
   "source": [
    "#is_palindrom = lambda x: 'yes' if x == x[::-1] else 'no'"
   ]
  },
  {
   "cell_type": "code",
   "execution_count": null,
   "id": "f57b7930",
   "metadata": {},
   "outputs": [],
   "source": [
    "is_palindrom = lambda x: \"yes\" if x == x[::-1] else \"no\""
   ]
  },
  {
   "cell_type": "code",
   "execution_count": 175,
   "id": "2e393e58",
   "metadata": {},
   "outputs": [
    {
     "name": "stdout",
     "output_type": "stream",
     "text": [
      "50\n"
     ]
    }
   ],
   "source": [
    "area = lambda x, y: x*y\n",
    "\n",
    "print(area(10, 5))"
   ]
  },
  {
   "cell_type": "code",
   "execution_count": 179,
   "id": "ae8f9bd1",
   "metadata": {},
   "outputs": [
    {
     "name": "stdout",
     "output_type": "stream",
     "text": [
      "4.0\n"
     ]
    }
   ],
   "source": [
    "between_min_max = lambda *args: (min(args) + max(args)) / 2\n",
    "\n",
    "print(between_min_max(1,2,4,6,7,2))"
   ]
  },
  {
   "cell_type": "code",
   "execution_count": 184,
   "id": "532f2bbc",
   "metadata": {},
   "outputs": [
    {
     "name": "stdout",
     "output_type": "stream",
     "text": [
      "['A', 'c', 'd', 'g', 'r', 'w', 'x']\n"
     ]
    }
   ],
   "source": [
    "def sort_ignore_case(ls):\n",
    "    sorted_list = sorted(ls)\n",
    "    return sorted_list\n",
    "\n",
    "def sort_ignore_case(ls):\n",
    "    return sorted(ls, key=str.lower)\n",
    "\n",
    "print(sort_ignore_case(['w', 'r', 'g', 'd', 'x', 'A', 'c']))"
   ]
  },
  {
   "cell_type": "code",
   "execution_count": null,
   "id": "8c6239e3",
   "metadata": {},
   "outputs": [],
   "source": [
    "def exchange(usd=None, rub=None, rate=None):\n",
    "    args = [usd, rub, rate]\n",
    "    filled = [arg is not None for arg in args]\n",
    "\n",
    "    if sum(filled) < 2:\n",
    "        raise ValueError('Not enough arguments')\n",
    "    elif sum(filled) > 2:\n",
    "        raise ValueError('Too many arguments')\n",
    "\n",
    "    if usd is None:\n",
    "        return rub / rate\n",
    "    elif rub is None:\n",
    "        return usd * rate\n",
    "    elif rate is None:\n",
    "        return rub / usd"
   ]
  },
  {
   "cell_type": "code",
   "execution_count": 191,
   "id": "2a4167d7",
   "metadata": {},
   "outputs": [],
   "source": [
    "def get_count_unique_symbols(string):\n",
    "    string = string.lower()\n",
    "    string = string.replace(' ', '')\n",
    "    unique = set(string)\n",
    "    return(len(unique))"
   ]
  },
  {
   "cell_type": "code",
   "execution_count": 192,
   "id": "28eb145f",
   "metadata": {},
   "outputs": [
    {
     "name": "stdout",
     "output_type": "stream",
     "text": [
      "9\n"
     ]
    }
   ],
   "source": [
    "my_str = 'Это простая строка'\n",
    "print(get_count_unique_symbols(my_str))"
   ]
  },
  {
   "cell_type": "code",
   "execution_count": 195,
   "id": "7dd40ce3",
   "metadata": {},
   "outputs": [],
   "source": [
    "def get_min_string(s1, s2):\n",
    "    def get_count_unique_symbols(string):\n",
    "        string = string.lower()\n",
    "        string = string.replace(' ', '')\n",
    "        unique = set(string)\n",
    "        return(len(unique))\n",
    "    if get_count_unique_symbols(s1) > get_count_unique_symbols(s2): return s2\n",
    "    elif get_count_unique_symbols(s1) == get_count_unique_symbols(s2): return (s1, s2)\n",
    "    else: return s1"
   ]
  },
  {
   "cell_type": "code",
   "execution_count": 197,
   "id": "5c474cd8",
   "metadata": {},
   "outputs": [
    {
     "name": "stdout",
     "output_type": "stream",
     "text": [
      "('школа', 'school')\n"
     ]
    }
   ],
   "source": [
    "print(get_min_string('школа', 'school'))"
   ]
  },
  {
   "cell_type": "code",
   "execution_count": 198,
   "id": "667bf7a2",
   "metadata": {},
   "outputs": [],
   "source": [
    "pi = 3.1416\n",
    "\n",
    "def calculate_area_circle(r = 0):\n",
    "    area = pi * r **2\n",
    "    return area\n",
    "    \n",
    "def calculate_area_ellipse(a = 0, b = 0):\n",
    "    area = pi * a * b\n",
    "    return area"
   ]
  },
  {
   "cell_type": "code",
   "execution_count": 199,
   "id": "f46333f9",
   "metadata": {},
   "outputs": [
    {
     "name": "stdout",
     "output_type": "stream",
     "text": [
      "78.53999999999999\n",
      "23.561999999999998\n",
      "78.53999999999999\n",
      "23.561999999999998\n"
     ]
    }
   ],
   "source": [
    "\n",
    "print(calculate_area_circle(r=5))\n",
    "## 78.54\n",
    "print(calculate_area_ellipse(a=3, b=2.5))\n",
    "## 23.562\n",
    "\n",
    "print(calculate_area_circle(r=5))\n",
    "## 78.5\n",
    "print(calculate_area_ellipse(a=3, b=2.5))\n",
    "## 23.55\n"
   ]
  },
  {
   "cell_type": "code",
   "execution_count": null,
   "id": "718cb9f3",
   "metadata": {},
   "outputs": [
    {
     "name": "stdout",
     "output_type": "stream",
     "text": [
      "1136.3636363636363\n"
     ]
    }
   ],
   "source": [
    "# Словарь с курсами валют (по отношению к рублю)\n",
    "currencies = {'USD': 74, 'EUR': 88, 'GBP': 98 , 'CHF': 82}\n",
    "# Общее количество денег на счету, которое нужно конвертировать\n",
    "money = 100000\n",
    "# Функция для конвертации валюты, аргумент - наименование валюты\n",
    "def convert(currencies, money, val):\n",
    "    return money / currencies[val]\n",
    "\n",
    "# Вызываем функцию для конвертации валюты\n",
    "print(convert(currencies, money, 'EUR'))\n",
    "\n"
   ]
  },
  {
   "cell_type": "code",
   "execution_count": 208,
   "id": "1769e1db",
   "metadata": {},
   "outputs": [
    {
     "data": {
      "text/plain": [
       "2"
      ]
     },
     "execution_count": 208,
     "metadata": {},
     "output_type": "execute_result"
    }
   ],
   "source": [
    "# Функция для вычисления количества символов (symbol) в строке s\n",
    "def count_occurrences(s, symbol):\n",
    "    # Внутренняя функция для предобработки строки s\n",
    "    def preprocessing_s():\n",
    "        nonlocal s\n",
    "        # Удаляем пробелы из строки\n",
    "        s = s.replace(' ', '')\n",
    "        # Приводим строку к нижнему регистру\n",
    "        s = s.lower()\n",
    "    # Вызываем функцию для предобработки аргумента s\n",
    "    preprocessing_s()\n",
    "    # Считаем количество символов symbol в строке s и возвращаем результат\n",
    "    return s.count(symbol)\n",
    "\n",
    "count_occurrences('This is simple string', symbol='t')\n",
    "## 2\n"
   ]
  },
  {
   "cell_type": "code",
   "execution_count": 209,
   "id": "cc82cac9",
   "metadata": {},
   "outputs": [
    {
     "name": "stdout",
     "output_type": "stream",
     "text": [
      "['ArithmeticError', 'AssertionError', 'AttributeError', 'BaseException', 'BaseExceptionGroup', 'BlockingIOError', 'BrokenPipeError', 'BufferError', 'BytesWarning', 'ChildProcessError', 'ConnectionAbortedError', 'ConnectionError', 'ConnectionRefusedError', 'ConnectionResetError', 'DeprecationWarning', 'EOFError', 'Ellipsis', 'EncodingWarning', 'EnvironmentError', 'Exception', 'ExceptionGroup', 'False', 'FileExistsError', 'FileNotFoundError', 'FloatingPointError', 'FutureWarning', 'GeneratorExit', 'IOError', 'ImportError', 'ImportWarning', 'IndentationError', 'IndexError', 'InterruptedError', 'IsADirectoryError', 'KeyError', 'KeyboardInterrupt', 'LookupError', 'MemoryError', 'ModuleNotFoundError', 'NameError', 'None', 'NotADirectoryError', 'NotImplemented', 'NotImplementedError', 'OSError', 'OverflowError', 'PendingDeprecationWarning', 'PermissionError', 'ProcessLookupError', 'RecursionError', 'ReferenceError', 'ResourceWarning', 'RuntimeError', 'RuntimeWarning', 'StopAsyncIteration', 'StopIteration', 'SyntaxError', 'SyntaxWarning', 'SystemError', 'SystemExit', 'TabError', 'TimeoutError', 'True', 'TypeError', 'UnboundLocalError', 'UnicodeDecodeError', 'UnicodeEncodeError', 'UnicodeError', 'UnicodeTranslateError', 'UnicodeWarning', 'UserWarning', 'ValueError', 'Warning', 'WindowsError', 'ZeroDivisionError', '__IPYTHON__', '__build_class__', '__debug__', '__doc__', '__import__', '__loader__', '__name__', '__package__', '__spec__', 'abs', 'aiter', 'all', 'anext', 'any', 'ascii', 'bin', 'bool', 'breakpoint', 'bytearray', 'bytes', 'callable', 'chr', 'classmethod', 'compile', 'complex', 'copyright', 'credits', 'delattr', 'dict', 'dir', 'display', 'divmod', 'enumerate', 'eval', 'exec', 'execfile', 'filter', 'float', 'format', 'frozenset', 'get_ipython', 'getattr', 'globals', 'hasattr', 'hash', 'help', 'hex', 'id', 'input', 'int', 'isinstance', 'issubclass', 'iter', 'len', 'license', 'list', 'locals', 'map', 'max', 'memoryview', 'min', 'next', 'object', 'oct', 'open', 'ord', 'pow', 'print', 'property', 'range', 'repr', 'reversed', 'round', 'runfile', 'set', 'setattr', 'slice', 'sorted', 'staticmethod', 'str', 'sum', 'super', 'tuple', 'type', 'vars', 'zip']\n"
     ]
    }
   ],
   "source": [
    "print(dir(__builtins__))"
   ]
  },
  {
   "cell_type": "code",
   "execution_count": 213,
   "id": "1ae688a6",
   "metadata": {},
   "outputs": [
    {
     "name": "stdout",
     "output_type": "stream",
     "text": [
      "True\n"
     ]
    }
   ],
   "source": [
    "def is_leap(year):\n",
    "    d = year - 2000\n",
    "    if d % 4 == 0 : return True\n",
    "    else: return False\n",
    "\n",
    "print (is_leap(1996))"
   ]
  },
  {
   "attachments": {
    "image.png": {
     "image/png": "[encoded data removed]"
    }
   },
   "cell_type": "markdown",
   "id": "1da596e3",
   "metadata": {},
   "source": [
    "![image.png](attachment:image.png)"
   ]
  },
  {
   "cell_type": "code",
   "execution_count": 224,
   "id": "2b0b4ec2",
   "metadata": {},
   "outputs": [],
   "source": [
    "def check_date(day, month, year):\n",
    "    def is_leap(year):\n",
    "        d = year - 2000\n",
    "        if d % 4 == 0 : return True\n",
    "        else: return False\n",
    "    # Проверяем день, месяц и год на целочисленность\n",
    "    if (type(day) is not int) or (type(month) is not int) or (type(year) is not int):\n",
    "        return False\n",
    "    # Проверяем год на заданный диапазон\n",
    "    if (year <= 1900) or (year >= 2022):\n",
    "        return False\n",
    "    # Проверяем месяц на заданный диапазон     \n",
    "    if (month < 1) or (month > 12):\n",
    "        return False\n",
    "    # Проверяем день на заданный диапазон  \n",
    "    if (day < 1) or (day > 31): \n",
    "        return False\n",
    "    # Проверяем апрель, июнь, сентябрь и ноябрь на количество дней\n",
    "    if (month in [4,6,9,11]) and (day > 30):\n",
    "        return False\n",
    "    # Проверяем количество дней в феврале\n",
    "    if month == 2 and day > 28:\n",
    "        if is_leap(year) != True: return False\n",
    "    return True"
   ]
  },
  {
   "cell_type": "code",
   "execution_count": 226,
   "id": "1960eca7",
   "metadata": {},
   "outputs": [
    {
     "data": {
      "text/plain": [
       "True"
      ]
     },
     "execution_count": 226,
     "metadata": {},
     "output_type": "execute_result"
    }
   ],
   "source": [
    "check_date(29, 2, 2000)"
   ]
  },
  {
   "cell_type": "code",
   "execution_count": 227,
   "id": "fd7baa54",
   "metadata": {},
   "outputs": [],
   "source": [
    "# Функция для регистрации пользователей\n",
    "def register(surname, name, date, middle_name=None, registry=None):\n",
    "    # Вспомогательная функция для предобработки даты\n",
    "    def preprocessing_date(date):\n",
    "        # Разделяем строку по символу точки\n",
    "        day, month, year = date.split('.')\n",
    "        # Преобразуем все данные к типу данных int\n",
    "        day, month, year = int(day), int(month), int(year)\n",
    "        return day, month, year\n",
    "    def check_date(day, month, year):\n",
    "        def is_leap(year):\n",
    "            d = year - 2000\n",
    "            if d % 4 == 0 : return True\n",
    "            else: return False\n",
    "        # Проверяем день, месяц и год на целочисленность\n",
    "        if (type(day) is not int) or (type(month) is not int) or (type(year) is not int):\n",
    "           return False\n",
    "        # Проверяем год на заданный диапазон\n",
    "        if (year <= 1900) or (year >= 2022):\n",
    "            return False\n",
    "        # Проверяем месяц на заданный диапазон     \n",
    "        if (month < 1) or (month > 12):\n",
    "            return False\n",
    "        # Проверяем день на заданный диапазон  \n",
    "        if (day < 1) or (day > 31): \n",
    "            return False\n",
    "        # Проверяем апрель, июнь, сентябрь и ноябрь на количество дней\n",
    "        if (month in [4,6,9,11]) and (day > 30):\n",
    "            return False\n",
    "        # Проверяем количество дней в феврале\n",
    "        if month == 2 and day > 28:\n",
    "            if is_leap(year) != True: return False\n",
    "        return True\n",
    "    # Если список не был передан — создаём пустой список\n",
    "    if registry is None:\n",
    "        registry = list()\n",
    "    # Разделяем дату на составляющие\n",
    "    day, month, year = preprocessing_date(date)\n",
    "    # Добавляем данные в список\n",
    "    if check_date(day, month, year) != True:\n",
    "        raise ValueError(\"Invalid Date!\")\n",
    "    else: \n",
    "        registry.append((surname, name, middle_name, day, month, year))\n",
    "        return registry"
   ]
  },
  {
   "cell_type": "code",
   "execution_count": null,
   "id": "ddf84404",
   "metadata": {},
   "outputs": [],
   "source": [
    "def check_exist_triangle(a, b, c):\n",
    "    if a + b > c and a + c > b and b + c > a: return True\n",
    "    else: return False"
   ]
  },
  {
   "cell_type": "code",
   "execution_count": 228,
   "id": "d75f48b9",
   "metadata": {},
   "outputs": [],
   "source": [
    "def triangle(p1, p2, p3):\n",
    "    # Функция для вычисления сторон треугольника\n",
    "    # По умолчанию параметры функции берутся из объемлющей области видимости\n",
    "    def sides(p1, p2, p3):\n",
    "        # Распаковываем кортежи для удобства, “;” означает новую строку кода\n",
    "        x1, y1 = p1; x2, y2 = p2; x3, y3 = p3\n",
    "        # Вычисляем стороны по теореме Пифагора\n",
    "        a = ((x2 - x1) ** 2 + (y2 - y1)** 2) ** 0.5\n",
    "        b = ((x3 - x1) ** 2 + (y3 - y1)** 2) ** 0.5\n",
    "        c = ((x3 - x2) ** 2 + (y3 - y2)** 2) ** 0.5\n",
    "    \n",
    "        def check_exist_triangle(a, b, c):\n",
    "            if a + b > c and a + c > b and b + c > a: return True\n",
    "            else: return False\n",
    "        \n",
    "        if check_exist_triangle(a, b, c) == True: return a, b, c\n",
    "        else: raise ValueError(\"Треугольник не существует\")\n",
    "\n",
    "    # Функция для вычисления периметра треугольника\n",
    "    def calculate_perimeter_triangle(a, b, c):\n",
    "        # Периметр — сумма всех сторон треугольника\n",
    "        perimeter = a + b + c\n",
    "        return perimeter\n",
    "\n",
    "    # Функция для вычисления площади треугольника\n",
    "    def calculate_area_triangle(a, b, c):\n",
    "        # Вычисляем полупериметр \n",
    "        # Значение perimeter берётся из объемлющей области видимости\n",
    "        p = perimeter / 2\n",
    "        # Вычисляем площадь по формуле Герона\n",
    "        area = (p * (p - a) * (p - b) * (p - c)) ** 0.5\n",
    "        return area\n",
    "    a, b, c = sides(p1, p2, p3)\n",
    "    perimeter = calculate_perimeter_triangle(a, b, c)\n",
    "    area = calculate_area_triangle(a, b, c)\n",
    "    result = {'a': a, 'b': b, 'c': c, 'perimeter': perimeter, 'area': area}\n",
    "    return result"
   ]
  },
  {
   "cell_type": "code",
   "execution_count": 229,
   "id": "a66ad5b4",
   "metadata": {},
   "outputs": [],
   "source": [
    "def radius(p1 = (0, 0), p2 = (0,0)):\n",
    "    x1, y1 = p1\n",
    "    x2, y2 = p2\n",
    "\n",
    "    l1 = y2- y1\n",
    "    l2 = x2 - x1\n",
    "    rad = (l1**2 + l2**2)**0.5\n",
    "    return rad"
   ]
  },
  {
   "cell_type": "code",
   "execution_count": 232,
   "id": "a014eae7",
   "metadata": {},
   "outputs": [],
   "source": [
    "def circle (p1 = (0, 0), p2 = (0,0)):\n",
    "    circle_dict = {}\n",
    "    def radius(p1 = (0, 0), p2 = (0,0)):\n",
    "        x1, y1 = p1\n",
    "        x2, y2 = p2\n",
    "\n",
    "        l1 = y2- y1\n",
    "        l2 = x2 - x1\n",
    "        rad = (l1**2 + l2**2)**0.5\n",
    "        return rad\n",
    "    \n",
    "    def calculate_circumference(radd):\n",
    "        return radd * 2 * pi\n",
    "    \n",
    "    def calculate_area_circle(radd):\n",
    "        return pi * radd**2\n",
    "    \n",
    "    circle_dict['radius'] = round(radius(p1, p2), 3)\n",
    "    circle_dict['circumference'] = round(calculate_circumference(radius(p1, p2)), 3)\n",
    "    circle_dict['area'] = round(calculate_area_circle(radius(p1, p2)), 3)\n",
    "\n",
    "    return circle_dict\n",
    "    \n"
   ]
  },
  {
   "cell_type": "code",
   "execution_count": 233,
   "id": "fe521f7f",
   "metadata": {},
   "outputs": [
    {
     "name": "stdout",
     "output_type": "stream",
     "text": [
      "{'radius': 11.662, 'circumference': 73.274, 'area': 427.258}\n"
     ]
    }
   ],
   "source": [
    "print(circle(p1 = (2, 4), p2 = (8, 14)))"
   ]
  },
  {
   "cell_type": "code",
   "execution_count": 235,
   "id": "0cca50ae",
   "metadata": {},
   "outputs": [
    {
     "name": "stdout",
     "output_type": "stream",
     "text": [
      "Collecting gradio_client\n",
      "  Downloading gradio_client-1.10.0-py3-none-any.whl.metadata (7.1 kB)\n",
      "Requirement already satisfied: fsspec in c:\\users\\andro\\anaconda3\\lib\\site-packages (from gradio_client) (2023.10.0)\n",
      "Requirement already satisfied: httpx>=0.24.1 in c:\\users\\andro\\anaconda3\\lib\\site-packages (from gradio_client) (0.26.0)\n",
      "Collecting huggingface-hub>=0.19.3 (from gradio_client)\n",
      "  Downloading huggingface_hub-0.31.1-py3-none-any.whl.metadata (13 kB)\n",
      "Requirement already satisfied: packaging in c:\\users\\andro\\anaconda3\\lib\\site-packages (from gradio_client) (23.1)\n",
      "Requirement already satisfied: typing-extensions~=4.0 in c:\\users\\andro\\anaconda3\\lib\\site-packages (from gradio_client) (4.9.0)\n",
      "Collecting websockets<16.0,>=10.0 (from gradio_client)\n",
      "  Downloading websockets-15.0.1-cp311-cp311-win_amd64.whl.metadata (7.0 kB)\n",
      "Requirement already satisfied: anyio in c:\\users\\andro\\anaconda3\\lib\\site-packages (from httpx>=0.24.1->gradio_client) (4.2.0)\n",
      "Requirement already satisfied: certifi in c:\\users\\andro\\anaconda3\\lib\\site-packages (from httpx>=0.24.1->gradio_client) (2024.2.2)\n",
      "Requirement already satisfied: httpcore==1.* in c:\\users\\andro\\anaconda3\\lib\\site-packages (from httpx>=0.24.1->gradio_client) (1.0.2)\n",
      "Requirement already satisfied: idna in c:\\users\\andro\\anaconda3\\lib\\site-packages (from httpx>=0.24.1->gradio_client) (3.4)\n",
      "Requirement already satisfied: sniffio in c:\\users\\andro\\anaconda3\\lib\\site-packages (from httpx>=0.24.1->gradio_client) (1.3.0)\n",
      "Requirement already satisfied: h11<0.15,>=0.13 in c:\\users\\andro\\anaconda3\\lib\\site-packages (from httpcore==1.*->httpx>=0.24.1->gradio_client) (0.14.0)\n",
      "Requirement already satisfied: filelock in c:\\users\\andro\\anaconda3\\lib\\site-packages (from huggingface-hub>=0.19.3->gradio_client) (3.13.1)\n",
      "Requirement already satisfied: pyyaml>=5.1 in c:\\users\\andro\\anaconda3\\lib\\site-packages (from huggingface-hub>=0.19.3->gradio_client) (6.0.1)\n",
      "Requirement already satisfied: requests in c:\\users\\andro\\anaconda3\\lib\\site-packages (from huggingface-hub>=0.19.3->gradio_client) (2.31.0)\n",
      "Requirement already satisfied: tqdm>=4.42.1 in c:\\users\\andro\\anaconda3\\lib\\site-packages (from huggingface-hub>=0.19.3->gradio_client) (4.65.0)\n",
      "Requirement already satisfied: colorama in c:\\users\\andro\\anaconda3\\lib\\site-packages (from tqdm>=4.42.1->huggingface-hub>=0.19.3->gradio_client) (0.4.6)\n",
      "Requirement already satisfied: charset-normalizer<4,>=2 in c:\\users\\andro\\anaconda3\\lib\\site-packages (from requests->huggingface-hub>=0.19.3->gradio_client) (2.0.4)\n",
      "Requirement already satisfied: urllib3<3,>=1.21.1 in c:\\users\\andro\\anaconda3\\lib\\site-packages (from requests->huggingface-hub>=0.19.3->gradio_client) (2.0.7)\n",
      "Downloading gradio_client-1.10.0-py3-none-any.whl (322 kB)\n",
      "   ---------------------------------------- 0.0/322.9 kB ? eta -:--:--\n",
      "   - -------------------------------------- 10.2/322.9 kB ? eta -:--:--\n",
      "   ---- ---------------------------------- 41.0/322.9 kB 487.6 kB/s eta 0:00:01\n",
      "   ----------- --------------------------- 92.2/322.9 kB 744.7 kB/s eta 0:00:01\n",
      "   -------------------- ----------------- 174.1/322.9 kB 952.6 kB/s eta 0:00:01\n",
      "   ----------------------------- ---------- 235.5/322.9 kB 1.1 MB/s eta 0:00:01\n",
      "   ---------------------------------------- 322.9/322.9 kB 1.2 MB/s eta 0:00:00\n",
      "Downloading huggingface_hub-0.31.1-py3-none-any.whl (484 kB)\n",
      "   ---------------------------------------- 0.0/484.3 kB ? eta -:--:--\n",
      "   -------------------------- ------------ 327.7/484.3 kB 10.2 MB/s eta 0:00:01\n",
      "   ---------------------------------------  481.3/484.3 kB 6.0 MB/s eta 0:00:01\n",
      "   ---------------------------------------- 484.3/484.3 kB 5.0 MB/s eta 0:00:00\n",
      "Downloading websockets-15.0.1-cp311-cp311-win_amd64.whl (176 kB)\n",
      "   ---------------------------------------- 0.0/176.8 kB ? eta -:--:--\n",
      "   --------------------------------------- 176.8/176.8 kB 10.4 MB/s eta 0:00:00\n",
      "Installing collected packages: websockets, huggingface-hub, gradio_client\n",
      "Successfully installed gradio_client-1.10.0 huggingface-hub-0.31.1 websockets-15.0.1\n",
      "Note: you may need to restart the kernel to use updated packages.\n"
     ]
    }
   ],
   "source": [
    "pip install gradio_client"
   ]
  },
  {
   "cell_type": "code",
   "execution_count": 236,
   "id": "41a5cdce",
   "metadata": {},
   "outputs": [
    {
     "name": "stdout",
     "output_type": "stream",
     "text": [
      "Loaded as API: https://qwen-qwen3-demo.hf.space ✔\n",
      "()\n"
     ]
    }
   ],
   "source": [
    "from gradio_client import Client\n",
    "\n",
    "client = Client(\"Qwen/Qwen3-Demo\")\n",
    "result = client.predict(\n",
    "\t\tapi_name=\"/lambda\"\n",
    ")\n",
    "print(result)"
   ]
  },
  {
   "cell_type": "code",
   "execution_count": 237,
   "id": "bd6ba86e",
   "metadata": {},
   "outputs": [
    {
     "name": "stdout",
     "output_type": "stream",
     "text": [
      "Loaded as API: https://qwen-qwen3-demo.hf.space ✔\n",
      "()\n"
     ]
    }
   ],
   "source": [
    "from gradio_client import Client\n",
    "\n",
    "client = Client(\"Qwen/Qwen3-Demo\")\n",
    "result = client.predict(\n",
    "\t\tapi_name=\"/close_header\"\n",
    ")\n",
    "print(result)"
   ]
  },
  {
   "cell_type": "code",
   "execution_count": 238,
   "id": "309f01f2",
   "metadata": {},
   "outputs": [
    {
     "name": "stdout",
     "output_type": "stream",
     "text": [
      "Loaded as API: https://qwen-qwen3-demo.hf.space ✔\n",
      "()\n"
     ]
    }
   ],
   "source": [
    "from gradio_client import Client\n",
    "\n",
    "client = Client(\"Qwen/Qwen3-Demo\")\n",
    "result = client.predict(\n",
    "\t\tapi_name=\"/apply_state_change\"\n",
    ")\n",
    "print(result)"
   ]
  },
  {
   "cell_type": "code",
   "execution_count": 239,
   "id": "c7710e81",
   "metadata": {},
   "outputs": [
    {
     "name": "stdout",
     "output_type": "stream",
     "text": [
      "Loaded as API: https://qwen-qwen3-demo.hf.space ✔\n",
      "()\n"
     ]
    }
   ],
   "source": [
    "from gradio_client import Client\n",
    "\n",
    "client = Client(\"Qwen/Qwen3-Demo\")\n",
    "result = client.predict(\n",
    "\t\tapi_name=\"/toggle_thinking\"\n",
    ")\n",
    "print(result)"
   ]
  },
  {
   "cell_type": "code",
   "execution_count": 240,
   "id": "11d9f8ad",
   "metadata": {},
   "outputs": [
    {
     "name": "stdout",
     "output_type": "stream",
     "text": [
      "Loaded as API: https://qwen-qwen3-demo.hf.space ✔\n",
      "{'value': {'conversations': [], 'conversation_contexts': {}}, '__type__': 'update'}\n"
     ]
    }
   ],
   "source": [
    "from gradio_client import Client\n",
    "\n",
    "client = Client(\"Qwen/Qwen3-Demo\")\n",
    "result = client.predict(\n",
    "\t\tapi_name=\"/update_browser_state\"\n",
    ")\n",
    "print(result)"
   ]
  },
  {
   "cell_type": "code",
   "execution_count": 243,
   "id": "76c584fb",
   "metadata": {},
   "outputs": [
    {
     "name": "stdout",
     "output_type": "stream",
     "text": [
      "Loaded as API: https://qwen-qwen3-demo.hf.space ✔\n",
      "({'__type__': 'update'}, {'__type__': 'update'})\n"
     ]
    }
   ],
   "source": [
    "from gradio_client import Client\n",
    "\n",
    "client = Client(\"Qwen/Qwen3-Demo\")\n",
    "result = client.predict(\n",
    "\t\tapi_name=\"/new_chat\"\n",
    ")\n",
    "print(result)"
   ]
  },
  {
   "cell_type": "code",
   "execution_count": null,
   "id": "e3b66002",
   "metadata": {},
   "outputs": [
    {
     "name": "stdout",
     "output_type": "stream",
     "text": [
      "Loaded as API: https://qwen-qwen3-demo.hf.space ✔\n"
     ]
    },
    {
     "ename": "AppError",
     "evalue": "The upstream Gradio app has raised an exception but has not enabled verbose error reporting. To enable, set show_error=True in launch().",
     "output_type": "error",
     "traceback": [
      "\u001b[1;31m---------------------------------------------------------------------------\u001b[0m",
      "\u001b[1;31mAppError\u001b[0m                                  Traceback (most recent call last)",
      "Cell \u001b[1;32mIn[244], line 4\u001b[0m\n\u001b[0;32m      1\u001b[0m \u001b[38;5;28;01mfrom\u001b[39;00m \u001b[38;5;21;01mgradio_client\u001b[39;00m \u001b[38;5;28;01mimport\u001b[39;00m Client\n\u001b[0;32m      3\u001b[0m client \u001b[38;5;241m=\u001b[39m Client(\u001b[38;5;124m\"\u001b[39m\u001b[38;5;124mQwen/Qwen3-Demo\u001b[39m\u001b[38;5;124m\"\u001b[39m)\n\u001b[1;32m----> 4\u001b[0m result \u001b[38;5;241m=\u001b[39m client\u001b[38;5;241m.\u001b[39mpredict(\n\u001b[0;32m      5\u001b[0m \t\tapi_name\u001b[38;5;241m=\u001b[39m\u001b[38;5;124m\"\u001b[39m\u001b[38;5;124m/select_conversation\u001b[39m\u001b[38;5;124m\"\u001b[39m\n\u001b[0;32m      6\u001b[0m )\n\u001b[0;32m      7\u001b[0m \u001b[38;5;28mprint\u001b[39m(result)\n",
      "File \u001b[1;32mc:\\Users\\andro\\anaconda3\\Lib\\site-packages\\gradio_client\\client.py:484\u001b[0m, in \u001b[0;36mClient.predict\u001b[1;34m(self, api_name, fn_index, *args, **kwargs)\u001b[0m\n\u001b[0;32m    465\u001b[0m \u001b[38;5;250m\u001b[39m\u001b[38;5;124;03m\"\"\"\u001b[39;00m\n\u001b[0;32m    466\u001b[0m \u001b[38;5;124;03mCalls the Gradio API and returns the result (this is a blocking call). Arguments can be provided as positional arguments or as keyword arguments (latter is recommended).\u001b[39;00m\n\u001b[0;32m    467\u001b[0m \n\u001b[1;32m   (...)\u001b[0m\n\u001b[0;32m    479\u001b[0m \u001b[38;5;124;03m    >> 9.0\u001b[39;00m\n\u001b[0;32m    480\u001b[0m \u001b[38;5;124;03m\"\"\"\u001b[39;00m\n\u001b[0;32m    481\u001b[0m \u001b[38;5;28mself\u001b[39m\u001b[38;5;241m.\u001b[39m_infer_fn_index(api_name, fn_index)\n\u001b[0;32m    482\u001b[0m \u001b[38;5;28;01mreturn\u001b[39;00m \u001b[38;5;28mself\u001b[39m\u001b[38;5;241m.\u001b[39msubmit(\n\u001b[0;32m    483\u001b[0m     \u001b[38;5;241m*\u001b[39margs, api_name\u001b[38;5;241m=\u001b[39mapi_name, fn_index\u001b[38;5;241m=\u001b[39mfn_index, \u001b[38;5;241m*\u001b[39m\u001b[38;5;241m*\u001b[39mkwargs\n\u001b[1;32m--> 484\u001b[0m )\u001b[38;5;241m.\u001b[39mresult()\n",
      "File \u001b[1;32mc:\\Users\\andro\\anaconda3\\Lib\\site-packages\\gradio_client\\client.py:1545\u001b[0m, in \u001b[0;36mJob.result\u001b[1;34m(self, timeout)\u001b[0m\n\u001b[0;32m   1530\u001b[0m \u001b[38;5;28;01mdef\u001b[39;00m \u001b[38;5;21mresult\u001b[39m(\u001b[38;5;28mself\u001b[39m, timeout: \u001b[38;5;28mfloat\u001b[39m \u001b[38;5;241m|\u001b[39m \u001b[38;5;28;01mNone\u001b[39;00m \u001b[38;5;241m=\u001b[39m \u001b[38;5;28;01mNone\u001b[39;00m) \u001b[38;5;241m-\u001b[39m\u001b[38;5;241m>\u001b[39m Any:\n\u001b[0;32m   1531\u001b[0m \u001b[38;5;250m    \u001b[39m\u001b[38;5;124;03m\"\"\"\u001b[39;00m\n\u001b[0;32m   1532\u001b[0m \u001b[38;5;124;03m    Return the result of the call that the future represents. Raises CancelledError: If the future was cancelled, TimeoutError: If the future didn't finish executing before the given timeout, and Exception: If the call raised then that exception will be raised.\u001b[39;00m\n\u001b[0;32m   1533\u001b[0m \n\u001b[1;32m   (...)\u001b[0m\n\u001b[0;32m   1543\u001b[0m \u001b[38;5;124;03m        >> 9\u001b[39;00m\n\u001b[0;32m   1544\u001b[0m \u001b[38;5;124;03m    \"\"\"\u001b[39;00m\n\u001b[1;32m-> 1545\u001b[0m     \u001b[38;5;28;01mreturn\u001b[39;00m \u001b[38;5;28msuper\u001b[39m()\u001b[38;5;241m.\u001b[39mresult(timeout\u001b[38;5;241m=\u001b[39mtimeout)\n",
      "File \u001b[1;32mc:\\Users\\andro\\anaconda3\\Lib\\concurrent\\futures\\_base.py:456\u001b[0m, in \u001b[0;36mFuture.result\u001b[1;34m(self, timeout)\u001b[0m\n\u001b[0;32m    454\u001b[0m     \u001b[38;5;28;01mraise\u001b[39;00m CancelledError()\n\u001b[0;32m    455\u001b[0m \u001b[38;5;28;01melif\u001b[39;00m \u001b[38;5;28mself\u001b[39m\u001b[38;5;241m.\u001b[39m_state \u001b[38;5;241m==\u001b[39m FINISHED:\n\u001b[1;32m--> 456\u001b[0m     \u001b[38;5;28;01mreturn\u001b[39;00m \u001b[38;5;28mself\u001b[39m\u001b[38;5;241m.\u001b[39m__get_result()\n\u001b[0;32m    457\u001b[0m \u001b[38;5;28;01melse\u001b[39;00m:\n\u001b[0;32m    458\u001b[0m     \u001b[38;5;28;01mraise\u001b[39;00m \u001b[38;5;167;01mTimeoutError\u001b[39;00m()\n",
      "File \u001b[1;32mc:\\Users\\andro\\anaconda3\\Lib\\concurrent\\futures\\_base.py:401\u001b[0m, in \u001b[0;36mFuture.__get_result\u001b[1;34m(self)\u001b[0m\n\u001b[0;32m    399\u001b[0m \u001b[38;5;28;01mif\u001b[39;00m \u001b[38;5;28mself\u001b[39m\u001b[38;5;241m.\u001b[39m_exception:\n\u001b[0;32m    400\u001b[0m     \u001b[38;5;28;01mtry\u001b[39;00m:\n\u001b[1;32m--> 401\u001b[0m         \u001b[38;5;28;01mraise\u001b[39;00m \u001b[38;5;28mself\u001b[39m\u001b[38;5;241m.\u001b[39m_exception\n\u001b[0;32m    402\u001b[0m     \u001b[38;5;28;01mfinally\u001b[39;00m:\n\u001b[0;32m    403\u001b[0m         \u001b[38;5;66;03m# Break a reference cycle with the exception in self._exception\u001b[39;00m\n\u001b[0;32m    404\u001b[0m         \u001b[38;5;28mself\u001b[39m \u001b[38;5;241m=\u001b[39m \u001b[38;5;28;01mNone\u001b[39;00m\n",
      "File \u001b[1;32mc:\\Users\\andro\\anaconda3\\Lib\\concurrent\\futures\\thread.py:58\u001b[0m, in \u001b[0;36m_WorkItem.run\u001b[1;34m(self)\u001b[0m\n\u001b[0;32m     55\u001b[0m     \u001b[38;5;28;01mreturn\u001b[39;00m\n\u001b[0;32m     57\u001b[0m \u001b[38;5;28;01mtry\u001b[39;00m:\n\u001b[1;32m---> 58\u001b[0m     result \u001b[38;5;241m=\u001b[39m \u001b[38;5;28mself\u001b[39m\u001b[38;5;241m.\u001b[39mfn(\u001b[38;5;241m*\u001b[39m\u001b[38;5;28mself\u001b[39m\u001b[38;5;241m.\u001b[39margs, \u001b[38;5;241m*\u001b[39m\u001b[38;5;241m*\u001b[39m\u001b[38;5;28mself\u001b[39m\u001b[38;5;241m.\u001b[39mkwargs)\n\u001b[0;32m     59\u001b[0m \u001b[38;5;28;01mexcept\u001b[39;00m \u001b[38;5;167;01mBaseException\u001b[39;00m \u001b[38;5;28;01mas\u001b[39;00m exc:\n\u001b[0;32m     60\u001b[0m     \u001b[38;5;28mself\u001b[39m\u001b[38;5;241m.\u001b[39mfuture\u001b[38;5;241m.\u001b[39mset_exception(exc)\n",
      "File \u001b[1;32mc:\\Users\\andro\\anaconda3\\Lib\\site-packages\\gradio_client\\client.py:1166\u001b[0m, in \u001b[0;36mEndpoint.make_end_to_end_fn.<locals>._inner\u001b[1;34m(*data)\u001b[0m\n\u001b[0;32m   1164\u001b[0m     data \u001b[38;5;241m=\u001b[39m \u001b[38;5;28mself\u001b[39m\u001b[38;5;241m.\u001b[39minsert_empty_state(\u001b[38;5;241m*\u001b[39mdata)\n\u001b[0;32m   1165\u001b[0m data \u001b[38;5;241m=\u001b[39m \u001b[38;5;28mself\u001b[39m\u001b[38;5;241m.\u001b[39mprocess_input_files(\u001b[38;5;241m*\u001b[39mdata)\n\u001b[1;32m-> 1166\u001b[0m predictions \u001b[38;5;241m=\u001b[39m _predict(\u001b[38;5;241m*\u001b[39mdata)\n\u001b[0;32m   1167\u001b[0m predictions \u001b[38;5;241m=\u001b[39m \u001b[38;5;28mself\u001b[39m\u001b[38;5;241m.\u001b[39mprocess_predictions(\u001b[38;5;241m*\u001b[39mpredictions)\n\u001b[0;32m   1169\u001b[0m \u001b[38;5;66;03m# Append final output only if not already present\u001b[39;00m\n\u001b[0;32m   1170\u001b[0m \u001b[38;5;66;03m# for consistency between generators and not generators\u001b[39;00m\n",
      "File \u001b[1;32mc:\\Users\\andro\\anaconda3\\Lib\\site-packages\\gradio_client\\client.py:1278\u001b[0m, in \u001b[0;36mEndpoint.make_predict.<locals>._predict\u001b[1;34m(*data)\u001b[0m\n\u001b[0;32m   1276\u001b[0m \u001b[38;5;28;01mif\u001b[39;00m \u001b[38;5;124m\"\u001b[39m\u001b[38;5;124merror\u001b[39m\u001b[38;5;124m\"\u001b[39m \u001b[38;5;129;01min\u001b[39;00m result:\n\u001b[0;32m   1277\u001b[0m     \u001b[38;5;28;01mif\u001b[39;00m result[\u001b[38;5;124m\"\u001b[39m\u001b[38;5;124merror\u001b[39m\u001b[38;5;124m\"\u001b[39m] \u001b[38;5;129;01mis\u001b[39;00m \u001b[38;5;28;01mNone\u001b[39;00m:\n\u001b[1;32m-> 1278\u001b[0m         \u001b[38;5;28;01mraise\u001b[39;00m AppError(\n\u001b[0;32m   1279\u001b[0m             \u001b[38;5;124m\"\u001b[39m\u001b[38;5;124mThe upstream Gradio app has raised an exception but has not enabled \u001b[39m\u001b[38;5;124m\"\u001b[39m\n\u001b[0;32m   1280\u001b[0m             \u001b[38;5;124m\"\u001b[39m\u001b[38;5;124mverbose error reporting. To enable, set show_error=True in launch().\u001b[39m\u001b[38;5;124m\"\u001b[39m\n\u001b[0;32m   1281\u001b[0m         )\n\u001b[0;32m   1282\u001b[0m     \u001b[38;5;28;01melse\u001b[39;00m:\n\u001b[0;32m   1283\u001b[0m         message \u001b[38;5;241m=\u001b[39m result\u001b[38;5;241m.\u001b[39mpop(\u001b[38;5;124m\"\u001b[39m\u001b[38;5;124merror\u001b[39m\u001b[38;5;124m\"\u001b[39m)\n",
      "\u001b[1;31mAppError\u001b[0m: The upstream Gradio app has raised an exception but has not enabled verbose error reporting. To enable, set show_error=True in launch()."
     ]
    },
    {
     "ename": "",
     "evalue": "",
     "output_type": "error",
     "traceback": [
      "\u001b[1;31mThe Kernel crashed while executing code in the current cell or a previous cell. \n",
      "\u001b[1;31mPlease review the code in the cell(s) to identify a possible cause of the failure. \n",
      "\u001b[1;31mClick <a href='https://aka.ms/vscodeJupyterKernelCrash'>here</a> for more info. \n",
      "\u001b[1;31mView Jupyter <a href='command:jupyter.viewOutput'>log</a> for further details."
     ]
    }
   ],
   "source": [
    "from gradio_client import Client\n",
    "\n",
    "client = Client(\"Qwen/Qwen3-Demo\")\n",
    "result = client.predict(\n",
    "\t\tapi_name=\"/select_conversation\"\n",
    ")\n",
    "print(result)"
   ]
  }
 ],
 "metadata": {
  "kernelspec": {
   "display_name": "base",
   "language": "python",
   "name": "python3"
  },
  "language_info": {
   "codemirror_mode": {
    "name": "ipython",
    "version": 3
   },
   "file_extension": ".py",
   "mimetype": "text/x-python",
   "name": "python",
   "nbconvert_exporter": "python",
   "pygments_lexer": "ipython3",
   "version": "3.11.7"
  }
 },
 "nbformat": 4,
 "nbformat_minor": 5
}
