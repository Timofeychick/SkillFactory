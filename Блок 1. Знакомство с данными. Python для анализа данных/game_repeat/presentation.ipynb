{
 "cells": [
  {
   "cell_type": "markdown",
   "id": "bba5ba9e",
   "metadata": {},
   "source": [
    "## Ноутбук Jupiter для запуска игры \"Угадай число\""
   ]
  },
  {
   "cell_type": "markdown",
   "id": "638e60fe",
   "metadata": {},
   "source": [
    "#### Импортируем из созданной библитеки:\n",
    "- *функцию поиска загаданного числа*\n",
    "\n",
    "- *функцию определения среднего количества попыток угадывания случайного числа*"
   ]
  },
  {
   "cell_type": "code",
   "execution_count": 8,
   "id": "5426c304",
   "metadata": {},
   "outputs": [],
   "source": [
    "from binary_search import bin_search\n",
    "from binary_search import mean_game_score"
   ]
  },
  {
   "cell_type": "markdown",
   "id": "18fe93f7",
   "metadata": {},
   "source": [
    "#### Запускаем код"
   ]
  },
  {
   "cell_type": "code",
   "execution_count": 9,
   "id": "b4b740d7",
   "metadata": {},
   "outputs": [
    {
     "name": "stdout",
     "output_type": "stream",
     "text": [
      "Ваш алгоритм угадывает число в среднем за:4 попыток\n"
     ]
    },
    {
     "data": {
      "text/plain": [
       "4"
      ]
     },
     "execution_count": 9,
     "metadata": {},
     "output_type": "execute_result"
    }
   ],
   "source": [
    "mean_game_score(bin_search)"
   ]
  }
 ],
 "metadata": {
  "kernelspec": {
   "display_name": "base",
   "language": "python",
   "name": "python3"
  },
  "language_info": {
   "codemirror_mode": {
    "name": "ipython",
    "version": 3
   },
   "file_extension": ".py",
   "mimetype": "text/x-python",
   "name": "python",
   "nbconvert_exporter": "python",
   "pygments_lexer": "ipython3",
   "version": "3.11.7"
  }
 },
 "nbformat": 4,
 "nbformat_minor": 5
}
