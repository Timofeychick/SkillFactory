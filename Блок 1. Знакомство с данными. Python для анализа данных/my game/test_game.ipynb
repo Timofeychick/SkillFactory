{
 "cells": [
  {
   "cell_type": "code",
   "execution_count": 11,
   "id": "dca06992",
   "metadata": {},
   "outputs": [],
   "source": [
    "from predict_num import predict_number\n",
    "from predict_num import game_score"
   ]
  },
  {
   "cell_type": "code",
   "execution_count": 12,
   "id": "4d4f7066",
   "metadata": {},
   "outputs": [
    {
     "name": "stdout",
     "output_type": "stream",
     "text": [
      "Ваш алгоритм угадывает число в среднем за:4 попыток\n"
     ]
    },
    {
     "data": {
      "text/plain": [
       "4"
      ]
     },
     "execution_count": 12,
     "metadata": {},
     "output_type": "execute_result"
    }
   ],
   "source": [
    "game_score(predict_number)"
   ]
  }
 ],
 "metadata": {
  "kernelspec": {
   "display_name": "base",
   "language": "python",
   "name": "python3"
  },
  "language_info": {
   "codemirror_mode": {
    "name": "ipython",
    "version": 3
   },
   "file_extension": ".py",
   "mimetype": "text/x-python",
   "name": "python",
   "nbconvert_exporter": "python",
   "pygments_lexer": "ipython3",
   "version": "3.11.7"
  }
 },
 "nbformat": 4,
 "nbformat_minor": 5
}
